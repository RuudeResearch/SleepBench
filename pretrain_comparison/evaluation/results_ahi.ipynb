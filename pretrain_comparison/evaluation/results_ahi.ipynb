{
 "cells": [
  {
   "cell_type": "code",
   "execution_count": 1,
   "metadata": {},
   "outputs": [],
   "source": [
    "from pathlib import Path\n",
    "import os\n",
    "import pandas as pd\n",
    "import numpy as np\n",
    "from sklearn.metrics import roc_auc_score\n"
   ]
  },
  {
   "cell_type": "code",
   "execution_count": 2,
   "metadata": {},
   "outputs": [],
   "source": [
    "base_path = os.path.join(os.getcwd().split('pretrain_comparison/evaluation')[0], 'pretrain_comparison/output/results')\n",
    "files_list = list(Path(base_path).rglob('*.npy'))\n"
   ]
  },
  {
   "cell_type": "code",
   "execution_count": 3,
   "metadata": {},
   "outputs": [
    {
     "name": "stdout",
     "output_type": "stream",
     "text": [
      "Calculating sleep stage and age results for CL_pairwise_epochs_36\n"
     ]
    }
   ],
   "source": [
    "rows = []\n",
    "for file in files_list:\n",
    "    if 'ahi_diagnosis_results.npy' not in str(file):\n",
    "        continue\n",
    "    name = str(file).split('/')[-2]\n",
    "    print(f\"Calculating sleep stage and age results for {name}\")\n",
    "    results = np.load(file, allow_pickle=True).item()\n",
    "\n",
    "    ahi_diagnosis_predictions = results['ahi_diagnosis_predictions']\n",
    "    ahi_diagnosis_targets = results['ahi_diagnosis_targets']\n",
    "\n",
    "    auc = roc_auc_score(ahi_diagnosis_targets, ahi_diagnosis_predictions)\n",
    "\n",
    "\n",
    "    row = {\n",
    "        'name': name,\n",
    "        'ahi_diagnosis_auc': auc\n",
    "    }\n",
    "    rows.append(row)\n",
    "\n",
    "df = pd.DataFrame(rows, columns=[\n",
    "    'name', 'ahi_diagnosis_auc'\n",
    "])\n",
    "\n",
    "    "
   ]
  },
  {
   "cell_type": "code",
   "execution_count": 4,
   "metadata": {},
   "outputs": [
    {
     "data": {
      "text/html": [
       "<div>\n",
       "<style scoped>\n",
       "    .dataframe tbody tr th:only-of-type {\n",
       "        vertical-align: middle;\n",
       "    }\n",
       "\n",
       "    .dataframe tbody tr th {\n",
       "        vertical-align: top;\n",
       "    }\n",
       "\n",
       "    .dataframe thead th {\n",
       "        text-align: right;\n",
       "    }\n",
       "</style>\n",
       "<table border=\"1\" class=\"dataframe\">\n",
       "  <thead>\n",
       "    <tr style=\"text-align: right;\">\n",
       "      <th></th>\n",
       "      <th>name</th>\n",
       "      <th>ahi_diagnosis_auc</th>\n",
       "    </tr>\n",
       "  </thead>\n",
       "  <tbody>\n",
       "    <tr>\n",
       "      <th>0</th>\n",
       "      <td>CL_pairwise_epochs_36</td>\n",
       "      <td>0.693498</td>\n",
       "    </tr>\n",
       "  </tbody>\n",
       "</table>\n",
       "</div>"
      ],
      "text/plain": [
       "                    name  ahi_diagnosis_auc\n",
       "0  CL_pairwise_epochs_36           0.693498"
      ]
     },
     "execution_count": 4,
     "metadata": {},
     "output_type": "execute_result"
    }
   ],
   "source": [
    "df"
   ]
  },
  {
   "cell_type": "code",
   "execution_count": 5,
   "metadata": {},
   "outputs": [],
   "source": [
    "df.to_csv(os.path.join(base_path, 'ahi_diagnosis_results.csv'), index=False)"
   ]
  }
 ],
 "metadata": {
  "kernelspec": {
   "display_name": "Python 3",
   "language": "python",
   "name": "python3"
  },
  "language_info": {
   "codemirror_mode": {
    "name": "ipython",
    "version": 3
   },
   "file_extension": ".py",
   "mimetype": "text/x-python",
   "name": "python",
   "nbconvert_exporter": "python",
   "pygments_lexer": "ipython3",
   "version": "3.10.14"
  }
 },
 "nbformat": 4,
 "nbformat_minor": 2
}
