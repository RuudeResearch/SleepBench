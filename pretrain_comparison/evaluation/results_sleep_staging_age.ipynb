{
 "cells": [
  {
   "cell_type": "code",
   "execution_count": 1,
   "metadata": {},
   "outputs": [],
   "source": [
    "from pathlib import Path\n",
    "import os\n",
    "import pandas as pd\n",
    "import numpy as np\n",
    "from sklearn.metrics import roc_auc_score, mean_absolute_error, r2_score\n",
    "from sklearn.preprocessing import label_binarize\n"
   ]
  },
  {
   "cell_type": "code",
   "execution_count": 2,
   "metadata": {},
   "outputs": [],
   "source": [
    "base_path = os.path.join(os.getcwd().split('pretrain_comparison/evaluation')[0], 'pretrain_comparison/output/results')\n",
    "files_list = list(Path(base_path).rglob('*.npy'))"
   ]
  },
  {
   "cell_type": "code",
   "execution_count": 3,
   "metadata": {},
   "outputs": [
    {
     "name": "stdout",
     "output_type": "stream",
     "text": [
      "Calculating sleep stage and age results for CL_pairwise_epochs_36\n"
     ]
    }
   ],
   "source": [
    "\n",
    "rows = []\n",
    "\n",
    "for file in files_list:\n",
    "    if 'sleep_stage_and_age_results.npy' not in str(file):\n",
    "        continue\n",
    "\n",
    "    name = str(file).split('/')[-2]\n",
    "    print(f\"Calculating sleep stage and age results for {name}\")\n",
    "    results = np.load(file, allow_pickle=True).item()\n",
    "\n",
    "    age_predictions = results['age_predictions']\n",
    "    age_targets = results['age_targets']\n",
    "    sleep_predictions = results['sleep_predictions']\n",
    "    sleep_targets = results['sleep_targets']\n",
    "\n",
    "    classes = np.unique(sleep_targets)\n",
    "    sleep_targets_bin = label_binarize(sleep_targets, classes=classes)\n",
    "    sleep_predictions_bin = label_binarize(sleep_predictions, classes=classes)\n",
    "\n",
    "    class_aucs = []\n",
    "    for i in range(len(classes)):\n",
    "        try:\n",
    "            auc = roc_auc_score(sleep_targets_bin[:, i], sleep_predictions_bin[:, i])\n",
    "            class_aucs.append(auc)\n",
    "        except ValueError:\n",
    "            class_aucs.append(None)\n",
    "\n",
    "    mean_auc = np.nanmean(class_aucs)\n",
    "\n",
    "    age_mae = mean_absolute_error(age_targets, age_predictions)\n",
    "    age_r2 = r2_score(age_targets, age_predictions)\n",
    "    age_pearson = np.corrcoef(age_targets, age_predictions)[0, 1]\n",
    "    age_spearman = np.corrcoef(np.argsort(age_targets), np.argsort(age_predictions))[0, 1]\n",
    "\n",
    "    row = {\n",
    "        'name': name,\n",
    "        'sleep_stage_auc': mean_auc,\n",
    "        'W_auc': class_aucs[0] if len(class_aucs) > 0 else None,\n",
    "        'N1_auc': class_aucs[1] if len(class_aucs) > 1 else None,\n",
    "        'N2_auc': class_aucs[2] if len(class_aucs) > 2 else None,\n",
    "        'N3_auc': class_aucs[3] if len(class_aucs) > 3 else None,\n",
    "        'REM_auc': class_aucs[4] if len(class_aucs) > 4 else None,\n",
    "        'age_mae': age_mae,\n",
    "        'age_r2': age_r2,\n",
    "        'age_pearson': age_pearson,\n",
    "        'age_spearman': age_spearman\n",
    "    }\n",
    "    rows.append(row)\n",
    "\n",
    "df = pd.DataFrame(rows, columns=[\n",
    "    'name', 'sleep_stage_auc', 'W_auc', 'N1_auc', 'N2_auc', 'N3_auc', 'REM_auc',\n",
    "    'age_mae', 'age_r2', 'age_pearson', 'age_spearman'\n",
    "])\n"
   ]
  },
  {
   "cell_type": "code",
   "execution_count": 4,
   "metadata": {},
   "outputs": [
    {
     "data": {
      "text/html": [
       "<div>\n",
       "<style scoped>\n",
       "    .dataframe tbody tr th:only-of-type {\n",
       "        vertical-align: middle;\n",
       "    }\n",
       "\n",
       "    .dataframe tbody tr th {\n",
       "        vertical-align: top;\n",
       "    }\n",
       "\n",
       "    .dataframe thead th {\n",
       "        text-align: right;\n",
       "    }\n",
       "</style>\n",
       "<table border=\"1\" class=\"dataframe\">\n",
       "  <thead>\n",
       "    <tr style=\"text-align: right;\">\n",
       "      <th></th>\n",
       "      <th>name</th>\n",
       "      <th>sleep_stage_auc</th>\n",
       "      <th>W_auc</th>\n",
       "      <th>N1_auc</th>\n",
       "      <th>N2_auc</th>\n",
       "      <th>N3_auc</th>\n",
       "      <th>REM_auc</th>\n",
       "      <th>age_mae</th>\n",
       "      <th>age_r2</th>\n",
       "      <th>age_pearson</th>\n",
       "      <th>age_spearman</th>\n",
       "    </tr>\n",
       "  </thead>\n",
       "  <tbody>\n",
       "    <tr>\n",
       "      <th>0</th>\n",
       "      <td>CL_pairwise_epochs_36</td>\n",
       "      <td>0.5</td>\n",
       "      <td>0.5</td>\n",
       "      <td>0.5</td>\n",
       "      <td>0.5</td>\n",
       "      <td>0.5</td>\n",
       "      <td>0.5</td>\n",
       "      <td>0.424168</td>\n",
       "      <td>-5.930733</td>\n",
       "      <td>0.387248</td>\n",
       "      <td>0.285714</td>\n",
       "    </tr>\n",
       "  </tbody>\n",
       "</table>\n",
       "</div>"
      ],
      "text/plain": [
       "                    name  sleep_stage_auc  W_auc  N1_auc  N2_auc  N3_auc  \\\n",
       "0  CL_pairwise_epochs_36              0.5    0.5     0.5     0.5     0.5   \n",
       "\n",
       "   REM_auc   age_mae    age_r2  age_pearson  age_spearman  \n",
       "0      0.5  0.424168 -5.930733     0.387248      0.285714  "
      ]
     },
     "execution_count": 4,
     "metadata": {},
     "output_type": "execute_result"
    }
   ],
   "source": [
    "df"
   ]
  },
  {
   "cell_type": "code",
   "execution_count": 5,
   "metadata": {},
   "outputs": [],
   "source": [
    "df.to_csv(os.path.join(base_path, 'sleep_stage_and_age_results.csv'), index=False)"
   ]
  },
  {
   "cell_type": "code",
   "execution_count": null,
   "metadata": {},
   "outputs": [],
   "source": []
  }
 ],
 "metadata": {
  "kernelspec": {
   "display_name": "Python 3",
   "language": "python",
   "name": "python3"
  },
  "language_info": {
   "codemirror_mode": {
    "name": "ipython",
    "version": 3
   },
   "file_extension": ".py",
   "mimetype": "text/x-python",
   "name": "python",
   "nbconvert_exporter": "python",
   "pygments_lexer": "ipython3",
   "version": "3.10.14"
  }
 },
 "nbformat": 4,
 "nbformat_minor": 2
}
